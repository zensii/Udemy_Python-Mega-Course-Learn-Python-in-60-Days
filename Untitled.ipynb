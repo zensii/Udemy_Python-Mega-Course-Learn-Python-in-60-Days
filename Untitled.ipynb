{
 "cells": [
  {
   "cell_type": "code",
   "execution_count": 2,
   "id": "05738001-15f3-43d1-8fdd-354066f28eb5",
   "metadata": {},
   "outputs": [
    {
     "name": "stdout",
     "output_type": "stream",
     "text": [
      "Hello World\n"
     ]
    }
   ],
   "source": [
    "print('Hello World')\n",
    "    "
   ]
  },
  {
   "cell_type": "code",
   "execution_count": 1,
   "id": "09a6b71b-c5a6-430f-9bab-63c228284464",
   "metadata": {},
   "outputs": [],
   "source": [
    "a = 'test string'\n"
   ]
  },
  {
   "cell_type": "code",
   "execution_count": 2,
   "id": "91ae26ab-297f-4980-bf21-8bfe396df689",
   "metadata": {},
   "outputs": [
    {
     "data": {
      "text/plain": [
       "'test string'"
      ]
     },
     "execution_count": 2,
     "metadata": {},
     "output_type": "execute_result"
    }
   ],
   "source": [
    "a\n"
   ]
  },
  {
   "cell_type": "code",
   "execution_count": 3,
   "id": "794be88d-f934-4759-84e3-98919d222bee",
   "metadata": {},
   "outputs": [],
   "source": [
    "myset = set('Mississippi')"
   ]
  },
  {
   "cell_type": "code",
   "execution_count": 4,
   "id": "7d05f0c9-37cd-40ef-a6c6-afa6a7490c60",
   "metadata": {},
   "outputs": [
    {
     "data": {
      "text/plain": [
       "{'M', 'i', 'p', 's'}"
      ]
     },
     "execution_count": 4,
     "metadata": {},
     "output_type": "execute_result"
    }
   ],
   "source": [
    "myset"
   ]
  },
  {
   "cell_type": "code",
   "execution_count": 5,
   "id": "6e335534-9447-42fd-9e57-b859be33bb6a",
   "metadata": {},
   "outputs": [
    {
     "data": {
      "text/plain": [
       "'C:\\\\Users\\\\svetl\\\\PycharmProjects\\\\Udemy_Python-Mega-Course-Learn-Python-in-60-Days'"
      ]
     },
     "execution_count": 5,
     "metadata": {},
     "output_type": "execute_result"
    }
   ],
   "source": [
    "pwd\n"
   ]
  },
  {
   "cell_type": "code",
   "execution_count": 6,
   "id": "3de884b3-37a0-4ee7-a041-bc82067bb776",
   "metadata": {},
   "outputs": [
    {
     "data": {
      "text/plain": [
       "274877906944"
      ]
     },
     "execution_count": 6,
     "metadata": {},
     "output_type": "execute_result"
    }
   ],
   "source": [
    "2**38\n"
   ]
  },
  {
   "cell_type": "code",
   "execution_count": null,
   "id": "2bdb821c-2dc3-441a-8f9c-004dd01db36c",
   "metadata": {},
   "outputs": [],
   "source": []
  }
 ],
 "metadata": {
  "kernelspec": {
   "display_name": "Python 3 (ipykernel)",
   "language": "python",
   "name": "python3"
  },
  "language_info": {
   "codemirror_mode": {
    "name": "ipython",
    "version": 3
   },
   "file_extension": ".py",
   "mimetype": "text/x-python",
   "name": "python",
   "nbconvert_exporter": "python",
   "pygments_lexer": "ipython3",
   "version": "3.12.4"
  }
 },
 "nbformat": 4,
 "nbformat_minor": 5
}
